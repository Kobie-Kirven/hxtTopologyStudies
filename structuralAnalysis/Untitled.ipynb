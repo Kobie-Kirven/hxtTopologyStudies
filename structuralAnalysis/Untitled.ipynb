{
 "cells": [
  {
   "cell_type": "code",
   "execution_count": 6,
   "metadata": {},
   "outputs": [],
   "source": [
    "from Bio.PDB.PDBParser import PDBParser\n",
    "from collections import defaultdict\n",
    "parser = PDBParser()\n",
    "structure = parser.get_structure(\"test\", \"hxt1/swiss_model_01_hxt1.pdb\")\n",
    "\n",
    "atom_counts = defaultdict(int)\n",
    "\n",
    "atoms = structure.get_atoms()\n",
    "for atom in atoms:\n",
    "    atomName = str(atom).split(' ')[1]\n",
    "    atom_counts[atomName] += 1\n",
    "    \n"
   ]
  },
  {
   "cell_type": "code",
   "execution_count": 7,
   "metadata": {},
   "outputs": [
    {
     "data": {
      "text/plain": [
       "[<matplotlib.lines.Line2D at 0x11206fd10>]"
      ]
     },
     "execution_count": 7,
     "metadata": {},
     "output_type": "execute_result"
    },
    {
     "data": {
      "image/png": "[encoded data removed]",
      "text/plain": [
       "<Figure size 432x288 with 1 Axes>"
      ]
     },
     "metadata": {
      "needs_background": "light"
     },
     "output_type": "display_data"
    }
   ],
   "source": [
    "import matplotlib.pyplot as plt\n",
    "%matplotlib inline"
   ]
  },
  {
   "cell_type": "code",
   "execution_count": 34,
   "metadata": {},
   "outputs": [
    {
     "name": "stdout",
     "output_type": "stream",
     "text": [
      "3.7874131\n"
     ]
    }
   ],
   "source": [
    "model = structure[0]\n",
    "chain = model[\"A\"]\n",
    "residue1=chain[(\" \", 100, \" \")]\n",
    "residue2=chain[(\" \", 101, \" \")]\n",
    "\n",
    "atom1 = residue1[\"CA\"]\n",
    "atom2 = residue2[\"CA\"]\n",
    "\n",
    "distance = atom1 - atom2\n",
    "print(distance)"
   ]
  },
  {
   "cell_type": "code",
   "execution_count": 8,
   "metadata": {},
   "outputs": [
    {
     "name": "stdout",
     "output_type": "stream",
     "text": [
      "defaultdict(<type 'int'>, {0: 0, 1: 0, 2: 0, 'OG>': 32, 'CZ>': 82, 'CE1>': 68, 6: 0, 'NE2>': 17, 8: 0, 9: 0, 'SD>': 21, 'OG1>': 25, 12: 0, 13: 0, 14: 0, 15: 0, 16: 0, 'O>': 468, 'ND2>': 14, 3: 0, 20: 0, 21: 0, 22: 0, 23: 0, 24: 0, 4: 0, 'CD>': 75, 'OXT>': 1, 'CB>': 419, 26: 0, 30: 0, 5: 0, 32: 0, 'OD2>': 11, 34: 0, 27: 0, 'CZ3>': 10, 28: 0, 'OE2>': 17, 'NZ>': 12, 29: 0, 'CG2>': 110, 'C>': 468, 'CE2>': 74, 31: 0, 10: 0, 36: 0, 11: 0, 'CD2>': 107, 'NH2>': 18, 'SG>': 18, 'ND1>': 4, 'NE1>': 10, 'OH>': 25, 35: 0, 'N>': 468, 'CG>': 228, 7: 0, 'CE>': 33, 'CZ2>': 10, 'OE1>': 30, 'OD1>': 25, 'CA>': 468, 17: 0, 'CH2>': 10, 'CG1>': 85, 18: 0, 'NE>': 18, 19: 0, 25: 0, 'CD1>': 144, 33: 0, 'NH1>': 18, 'CE3>': 10})\n"
     ]
    }
   ],
   "source": [
    "print(atom_counts)"
   ]
  },
  {
   "cell_type": "code",
   "execution_count": 41,
   "metadata": {},
   "outputs": [
    {
     "name": "stdout",
     "output_type": "stream",
     "text": [
      "3202\n",
      "3202\n",
      "22.588753853022023\n"
     ]
    }
   ],
   "source": [
    "from Bio.SVDSuperimposer import SVDSuperimposer\n",
    "from numpy import array, dot, set_printoptions\n",
    "\n",
    "structure1 = parser.get_structure(\"test\", \"hxt1/swiss_model_01_hxt1.pdb\")\n",
    "structure2 = parser.get_structure(\"test\", \"hxt1/swiss_model_02_hxt1.pdb\")\n",
    "\n",
    "x, y = [], []\n",
    "model1 = structure1[0]\n",
    "for chain1 in model1:\n",
    "    for residue1 in chain1:\n",
    "        for atom1 in residue1:\n",
    "            x.append(atom1.get_coord())\n",
    "\n",
    "model2 = structure2[0]\n",
    "for chain2 in model2:\n",
    "    for residue2 in chain2:\n",
    "        for atom2 in residue2:\n",
    "            y.append(atom1.get_coord())   \n",
    "            \n",
    "x = array(x[:3202])\n",
    "y = array(y[:3202])\n",
    "\n",
    "print(len(x))\n",
    "print(len(y))\n",
    "\n",
    "# x = array([[51.65, -1.90, 50.07],\n",
    "#      [50.40, -1.23, 50.65],\n",
    "#      [50.68, -0.04, 51.54],\n",
    "#      [50.22, -0.02, 52.85]], 'f')\n",
    "\n",
    "# y = array([[51.30, -2.99, 46.54],\n",
    "#      [51.09, -1.88, 47.58],\n",
    "#      [52.36, -1.20, 48.03],\n",
    "#      [52.71, -1.18, 49.38]], 'f')\n",
    "\n",
    "sup = SVDSuperimposer()\n",
    "\n",
    "sup.set(x, y)\n",
    "\n",
    "sup.run()\n",
    "\n",
    "rms = sup.get_rms()\n",
    "\n",
    "print(rms)"
   ]
  },
  {
   "cell_type": "code",
   "execution_count": null,
   "metadata": {},
   "outputs": [],
   "source": []
  }
 ],
 "metadata": {
  "kernelspec": {
   "display_name": "Python 2",
   "language": "python",
   "name": "python2"
  },
  "language_info": {
   "codemirror_mode": {
    "name": "ipython",
    "version": 2
   },
   "file_extension": ".py",
   "mimetype": "text/x-python",
   "name": "python",
   "nbconvert_exporter": "python",
   "pygments_lexer": "ipython2",
   "version": "2.7.16"
  }
 },
 "nbformat": 4,
 "nbformat_minor": 2
}
